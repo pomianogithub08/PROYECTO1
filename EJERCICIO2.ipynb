{
 "cells": [
  {
   "cell_type": "code",
   "execution_count": 1,
   "id": "54af7b4d",
   "metadata": {},
   "outputs": [
    {
     "name": "stdout",
     "output_type": "stream",
     "text": [
      "Ingrese la cantidad de clientes: 1\n",
      "Ingrese el nombre del cliente 1 :maria\n",
      "Ingrese el sueldo de maria :123\n",
      "{'maria': 123}\n",
      "media                123.0\n",
      "max                  123.0\n",
      "min                  123.0\n",
      "Desviación típica      NaN\n",
      "dtype: float64\n",
      "count      3.0\n",
      "mean     123.0\n",
      "std        0.0\n",
      "min      123.0\n",
      "25%      123.0\n",
      "50%      123.0\n",
      "75%      123.0\n",
      "max      123.0\n",
      "dtype: float64\n"
     ]
    }
   ],
   "source": [
    "#importamos el paquete de pandas asignandole el sobrenombre de pd\n",
    "import pandas as pd\n",
    "#cramos dos listas vacias:\n",
    "#en la lista_nombres se almacenaran los nombres de los clientes.\n",
    "lista_nombre=[]\n",
    "\n",
    "#en la lista_sueldo se almacenaran sus sueldos de cada cliente.\n",
    "lista_sueldo=[]\n",
    "\n",
    "#pedimos al usuario que ingrese la cantidad de clientes.\n",
    "n=int(input('Ingrese la cantidad de clientes: '))\n",
    "\n",
    "#la variable i recorre desde (0 a n-1)\n",
    "for i in range(n):\n",
    "    \n",
    "#pedimos al usuario que ingrese el nombre del cliente.\n",
    "    nombre=str(input('Ingrese el nombre del cliente ' + str(i+1) +' :'))\n",
    "\n",
    "#se almacena los nombres de los clientes en lista_nombre     \n",
    "    lista_nombre.append(nombre)\n",
    "    \n",
    "#pedimos al usuario que ingrese el sueldo de cada cliente.    \n",
    "    sueldo=int(input('Ingrese el sueldo de '+ nombre + ' :'))\n",
    "\n",
    "#se almacena los sueldos de los clientes en lista_sueldo    \n",
    "    lista_sueldo.append(sueldo)\n",
    "\n",
    "#creamos un diccionario con las listas    \n",
    "dic1=dict((zip(lista_nombre,lista_sueldo)))\n",
    "\n",
    "#creamos una funcion de nombre estaditicos \n",
    "def estadisticos(n):\n",
    "#cuerpo de la función\n",
    "#convertimos el diccionario a series\n",
    "    df=pd.Series(dic1)\n",
    "#creamos una serie con la media, maximo, minimo, desviacion tipica, con los index=['media','max','min','Desviación típica']    \n",
    "    df1=pd.Series([df.mean(),df.max(),df.min(),df.std()], index=['media','max','min','Desviación típica'])\n",
    "    print(df1)\n",
    "    \n",
    "#imprime los datos estadisticos\n",
    "    print(df1.describe())\n",
    "estadisticos(dic1)\n"
   ]
  },
  {
   "cell_type": "code",
   "execution_count": null,
   "id": "53d8d6e3",
   "metadata": {},
   "outputs": [],
   "source": []
  },
  {
   "cell_type": "code",
   "execution_count": null,
   "id": "a5be9212",
   "metadata": {},
   "outputs": [],
   "source": []
  }
 ],
 "metadata": {
  "kernelspec": {
   "display_name": "Python 3 (ipykernel)",
   "language": "python",
   "name": "python3"
  },
  "language_info": {
   "codemirror_mode": {
    "name": "ipython",
    "version": 3
   },
   "file_extension": ".py",
   "mimetype": "text/x-python",
   "name": "python",
   "nbconvert_exporter": "python",
   "pygments_lexer": "ipython3",
   "version": "3.9.12"
  }
 },
 "nbformat": 4,
 "nbformat_minor": 5
}
